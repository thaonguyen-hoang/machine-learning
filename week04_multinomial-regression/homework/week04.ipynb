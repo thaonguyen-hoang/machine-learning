{
 "cells": [
  {
   "cell_type": "markdown",
   "metadata": {},
   "source": [
    "#### Exercise 1. Iris"
   ]
  },
  {
   "cell_type": "markdown",
   "metadata": {},
   "source": [
    "sử dụng PCA để giảm số chiều, vẽ hình trực quan hóa dữ liệu"
   ]
  },
  {
   "cell_type": "code",
   "execution_count": 2,
   "metadata": {},
   "outputs": [],
   "source": [
    "import pandas as pd\n",
    "from sklearn.decomposition import PCA as sklearnPCA\n",
    "import numpy as np\n",
    "import matplotlib.pyplot as plt\n",
    "from sklearn import datasets"
   ]
  },
  {
   "cell_type": "code",
   "execution_count": 3,
   "metadata": {},
   "outputs": [
    {
     "data": {
      "image/png": "[encoded data removed]",
      "text/plain": [
       "<Figure size 640x480 with 1 Axes>"
      ]
     },
     "metadata": {},
     "output_type": "display_data"
    }
   ],
   "source": [
    "# import some data to play with\n",
    "iris = datasets.load_iris()\n",
    "X = iris.data[:, :4] # we take full 4 features\n",
    "Y = iris.target\n",
    "\n",
    "# Normalize data\n",
    "X_norm = (X - X.min())/(X.max() - X.min())\n",
    "\n",
    "pca = sklearnPCA(n_components=2) #2-dimensional PCA\n",
    "transformed = pd.DataFrame(pca.fit_transform(X_norm))\n",
    "\n",
    "# visualize\n",
    "plt.axis(\"off\")\n",
    "plt.scatter(transformed[Y==0][0], transformed[Y==0][1], s=9, label='IRIS Setosa',\n",
    "c='red')\n",
    "plt.scatter(transformed[Y==1][0], transformed[Y==1][1], s=9, label='IRIS Versicolor',\n",
    "c='green', marker=\"^\")\n",
    "plt.scatter(transformed[Y==2][0], transformed[Y==2][1], s=9, label='IRIS Virginica',\n",
    "c='blue', marker=\"s\")\n",
    "plt.legend()\n",
    "plt.show()"
   ]
  },
  {
   "cell_type": "markdown",
   "metadata": {},
   "source": [
    "##### (a) tự xây dựng các hàm từ numpy"
   ]
  },
  {
   "cell_type": "code",
   "execution_count": 4,
   "metadata": {},
   "outputs": [
    {
     "name": "stdout",
     "output_type": "stream",
     "text": [
      "(120, 4)\n",
      "(40, 4)\n"
     ]
    }
   ],
   "source": [
    "# split data into training:validation set with proportion of 4:1, in which\n",
    "# each class has the same number of observations in training set\n",
    "from sklearn.model_selection import train_test_split\n",
    "\n",
    "X_train, X_test, Y_train, Y_test = train_test_split(X, Y, test_size=.2, random_state=17, stratify=Y)\n",
    "print(X_train.shape)\n",
    "print(X_train[Y_train == 0].shape)"
   ]
  },
  {
   "cell_type": "code",
   "execution_count": 5,
   "metadata": {},
   "outputs": [],
   "source": [
    "from scipy import sparse\n",
    "\n",
    "def convert_labels(y, C):\n",
    "    Y = sparse.coo_matrix((np.ones_like(y), (y, np.arange(len(y)))), \n",
    "                          shape = (C, len(y))).toarray()\n",
    "    return Y"
   ]
  },
  {
   "cell_type": "code",
   "execution_count": 6,
   "metadata": {},
   "outputs": [],
   "source": [
    "def softmax_stable(Z):\n",
    "    e_Z = np.exp(Z - np.max(Z, axis = 0, keepdims = True))\n",
    "    A = e_Z / e_Z.sum(axis = 0)\n",
    "    return A\n",
    "\n",
    "def softmax(Z):\n",
    "    e_Z = np.exp(Z)\n",
    "    A = e_Z / e_Z.sum(axis = 0)\n",
    "    return A\n",
    "\n",
    "def softmax_regression(X, y, W_init, eta, tol = 1e-4, max_count = 10000):\n",
    "    W = [W_init]\n",
    "    C = W_init.shape[1]\n",
    "    Y = convert_labels(y, C)\n",
    "    it = 0\n",
    "    N = X.shape[1]\n",
    "    d = X.shape[0]\n",
    "\n",
    "    count = 0\n",
    "    check_w_after = 20\n",
    "    while count < max_count:\n",
    "        # mix data\n",
    "        mix_id = np.random.permutation(N)\n",
    "        for i in mix_id:\n",
    "            xi = X[:, i].reshape(d, 1)\n",
    "            yi = Y[:, i].reshape(C, 1)\n",
    "            ai = softmax(np.dot(W[-1].T, xi))\n",
    "            W_new = W[-1] + eta*xi.dot((yi - ai).T)\n",
    "            count += 1\n",
    "            # stopping criteria\n",
    "            if count%check_w_after == 0:\n",
    "                if np.linalg.norm(W_new - W[-check_w_after]) < tol:\n",
    "                    return W\n",
    "            W.append(W_new)\n",
    "    return W"
   ]
  },
  {
   "cell_type": "code",
   "execution_count": 7,
   "metadata": {},
   "outputs": [
    {
     "name": "stdout",
     "output_type": "stream",
     "text": [
      "[[ 1.8958735   2.12130343 -4.55603973]\n",
      " [ 4.00809988  0.16902138 -4.8262953 ]\n",
      " [-6.18021904 -1.58121537  6.14644228]\n",
      " [-2.86591727 -4.59607042  5.09530935]]\n"
     ]
    }
   ],
   "source": [
    "# print out result of prediction\n",
    "eta = .05\n",
    "d = X_train.shape[1]\n",
    "C = 3\n",
    "W_init = np.random.randn(d, C)\n",
    "W_init\n",
    "W = softmax_regression(X_train.T, Y_train.T, W_init, eta)\n",
    "print(W[-1])"
   ]
  },
  {
   "cell_type": "code",
   "execution_count": 8,
   "metadata": {},
   "outputs": [
    {
     "data": {
      "text/plain": [
       "array([1, 1, 2, 1, 1, 0, 1, 0, 1, 1, 0, 1, 2, 0, 2, 0, 1, 1, 0, 2, 0, 2,\n",
       "       1, 0, 0, 2, 2, 2, 0, 2], dtype=int64)"
      ]
     },
     "execution_count": 8,
     "metadata": {},
     "output_type": "execute_result"
    }
   ],
   "source": [
    "def pred(W, X):\n",
    "    A = softmax_stable(W.T.dot(X))\n",
    "    return np.argmax(A, axis = 0)\n",
    "\n",
    "Z = pred(W[-1], X_test.T)\n",
    "Z"
   ]
  },
  {
   "cell_type": "code",
   "execution_count": 9,
   "metadata": {},
   "outputs": [
    {
     "name": "stdout",
     "output_type": "stream",
     "text": [
      "[[10  0  0]\n",
      " [ 0 10  0]\n",
      " [ 0  1  9]]\n",
      "Accuracy = 0.9666666666666667\n",
      "Precision =  [1.         0.90909091 1.        ]\n",
      "Recall =  [1.  1.  0.9]\n"
     ]
    }
   ],
   "source": [
    "from sklearn.metrics import accuracy_score, precision_score, recall_score, confusion_matrix\n",
    "\n",
    "cm = confusion_matrix(Y_test, Z)\n",
    "print(cm)\n",
    "\n",
    "acc = accuracy_score(Y_test, Z)\n",
    "prec = precision_score(Y_test, Z, average=None)\n",
    "rec = recall_score(Y_test, Z, average=None)\n",
    "\n",
    "print('Accuracy =', acc)\n",
    "print('Precision = ', prec)\n",
    "print('Recall = ', rec)"
   ]
  },
  {
   "cell_type": "markdown",
   "metadata": {},
   "source": [
    "##### (b) sử dụng hàm từ thư viện scikit-learn"
   ]
  },
  {
   "cell_type": "code",
   "execution_count": 10,
   "metadata": {},
   "outputs": [
    {
     "name": "stdout",
     "output_type": "stream",
     "text": [
      "(150, 4)\n",
      "(150,)\n"
     ]
    }
   ],
   "source": [
    "import pandas as pd\n",
    "import matplotlib.pyplot as plt\n",
    "import numpy as np\n",
    "#from sklearn.preprocessing import StandardScaler\n",
    "from sklearn.linear_model import LogisticRegression\n",
    "from sklearn.datasets import load_iris\n",
    "\n",
    "iris = load_iris()\n",
    "X = iris.data # Observed variable\n",
    "Y = iris.target # Dependent variable (label)\n",
    "print(X.shape)\n",
    "print(Y.shape)"
   ]
  },
  {
   "cell_type": "code",
   "execution_count": 11,
   "metadata": {},
   "outputs": [
    {
     "data": {
      "text/plain": [
       "array([0, 0, 2, 0, 0, 2, 0, 2, 2, 0, 0, 0, 0, 0, 1, 1, 0, 1, 2, 1, 2, 1,\n",
       "       2, 1, 1, 0, 0, 2, 0, 2])"
      ]
     },
     "execution_count": 11,
     "metadata": {},
     "output_type": "execute_result"
    }
   ],
   "source": [
    "# split training and test set\n",
    "X_train, X_test, Y_train, Y_test = train_test_split(X, Y, test_size=0.2, random_state=2)\n",
    "\n",
    "# call Logistic Regression Model - SAG: solving is based on Stochastic Average Gradient\n",
    "lorg = LogisticRegression(multi_class='multinomial', solver='sag', max_iter=5000)\n",
    "# and train model by training set\n",
    "lorg.fit(X_train,Y_train)\n",
    "\n",
    "# make prediction on test set\n",
    "Y_pred = lorg.predict(X_test)\n",
    "Y_pred"
   ]
  },
  {
   "cell_type": "code",
   "execution_count": 12,
   "metadata": {},
   "outputs": [
    {
     "name": "stdout",
     "output_type": "stream",
     "text": [
      "Accuracy: 0.9666666666666667\n",
      "[[14  0  0]\n",
      " [ 0  7  1]\n",
      " [ 0  0  8]]\n"
     ]
    }
   ],
   "source": [
    "# for accuracy\n",
    "print('Accuracy:', accuracy_score(Y_test,Y_pred))\n",
    "# for confusion matrix\n",
    "cm = confusion_matrix(Y_test,Y_pred)\n",
    "print(cm)"
   ]
  },
  {
   "cell_type": "markdown",
   "metadata": {},
   "source": [
    "#### Exercise 2. 20NewsGroups"
   ]
  },
  {
   "cell_type": "code",
   "execution_count": 13,
   "metadata": {},
   "outputs": [
    {
     "data": {
      "text/plain": [
       "'\\ndataset: 20NewsGroups contains 20,000 short pieces of news (text) divided into \\n        20 categories that belong to 6 different groups, such as\\n        comp, rec, sci, míc, politics, religion.\\nproblem: classify each piece of news into its category.\\n        the dataset is encoded using bag-of-words for solving this problem.\\ninput: (vectorized) text\\noutput: category\\nmethod: multinomial logistic regression\\n'"
      ]
     },
     "execution_count": 13,
     "metadata": {},
     "output_type": "execute_result"
    }
   ],
   "source": [
    "'''\n",
    "dataset: 20NewsGroups contains 20,000 short pieces of news (text) divided into \n",
    "        20 categories that belong to 6 different groups, such as\n",
    "        comp, rec, sci, míc, politics, religion.\n",
    "problem: classify each piece of news into its category.\n",
    "        the dataset is encoded using bag-of-words for solving this problem.\n",
    "input: (vectorized) text\n",
    "output: category\n",
    "method: multinomial logistic regression\n",
    "'''"
   ]
  },
  {
   "cell_type": "code",
   "execution_count": 14,
   "metadata": {},
   "outputs": [],
   "source": [
    "# import library\n",
    "from sklearn.datasets import fetch_20newsgroups_vectorized\n",
    "\n",
    "# load dataset\n",
    "n_samples = 1000\n",
    "\n",
    "X, y = fetch_20newsgroups_vectorized(subset='all', return_X_y=True)\n",
    "X = X[:n_samples]\n",
    "y = y[:n_samples]"
   ]
  },
  {
   "cell_type": "code",
   "execution_count": 15,
   "metadata": {},
   "outputs": [
    {
     "name": "stdout",
     "output_type": "stream",
     "text": [
      "No. of training samples: 800\n",
      "No. of features: 130107\n",
      "No. of classes: 20\n"
     ]
    }
   ],
   "source": [
    "# split data\n",
    "X_train, X_test, y_train, y_test = train_test_split(X, y, random_state=42, stratify=y, test_size=0.2)\n",
    "\n",
    "train_samples, n_features = X_train.shape\n",
    "n_classes = np.unique(y).shape[0]\n",
    "\n",
    "print('No. of training samples:', train_samples)\n",
    "print('No. of features:', n_features)\n",
    "print('No. of classes:', n_classes)"
   ]
  },
  {
   "cell_type": "code",
   "execution_count": 16,
   "metadata": {},
   "outputs": [],
   "source": [
    "# call method\n",
    "lorg = LogisticRegression(multi_class='multinomial', solver='sag', max_iter=100)\n",
    "# fit model\n",
    "lorg.fit(X_train, y_train)\n",
    "# predict\n",
    "y_pred = lorg.predict(X_test)"
   ]
  },
  {
   "cell_type": "code",
   "execution_count": 17,
   "metadata": {},
   "outputs": [
    {
     "name": "stdout",
     "output_type": "stream",
     "text": [
      "Accuracy: 0.9666666666666667\n",
      "[[ 6  0  1  0  0  0  0  0  0  1  0  0  0  1  0  1  0  0  0  0]\n",
      " [ 0  5  3  0  0  0  1  0  0  0  0  0  0  2  0  1  1  0  0  0]\n",
      " [ 0  2  5  0  0  0  2  0  0  0  0  0  1  1  0  0  0  0  0  0]\n",
      " [ 0  2  1  0  0  0  0  0  0  0  1  0  1  1  0  2  0  0  0  0]\n",
      " [ 0  2  1  0  3  0  0  0  0  0  2  0  0  2  0  0  0  0  0  0]\n",
      " [ 0  3  2  0  0  2  0  0  0  0  2  0  0  1  0  0  0  0  0  0]\n",
      " [ 1  0  0  0  0  0  8  0  0  0  0  0  0  2  0  1  0  0  0  0]\n",
      " [ 0  1  1  0  0  0  1  1  3  0  1  0  0  0  0  0  1  0  0  0]\n",
      " [ 0  0  0  0  0  0  3  0  2  0  1  0  0  2  0  0  2  0  0  0]\n",
      " [ 0  1  1  0  0  0  0  0  0  4  2  0  0  1  0  0  0  1  0  0]\n",
      " [ 0  0  1  0  0  0  0  0  0  0 11  0  0  0  0  0  0  0  0  0]\n",
      " [ 0  1  0  0  0  0  0  0  0  0  2  5  0  1  0  0  0  0  0  0]\n",
      " [ 0  4  1  0  0  0  0  0  0  0  1  1  0  0  0  0  1  1  0  0]\n",
      " [ 0  0  1  0  0  0  1  1  0  0  1  0  0  7  0  1  0  1  0  0]\n",
      " [ 0  0  0  0  0  0  1  0  0  0  1  0  0  1  6  0  0  1  0  0]\n",
      " [ 0  0  0  0  0  0  0  0  0  0  1  0  0  0  0  8  0  3  0  0]\n",
      " [ 1  1  0  0  0  0  0  0  0  0  2  0  0  1  0  0  1  3  0  0]\n",
      " [ 0  1  1  0  0  0  0  0  0  0  0  0  0  0  0  1  0  7  0  0]\n",
      " [ 0  0  0  0  0  0  1  0  1  1  0  0  0  0  0  0  0  2  1  0]\n",
      " [ 1  0  0  0  0  0  0  0  0  0  1  0  0  0  0  3  1  1  0  0]]\n"
     ]
    }
   ],
   "source": [
    "# accuracy\n",
    "accu = accuracy_score(y_test, y_pred)\n",
    "print('Accuracy:', acc)\n",
    "# confusion matrix\n",
    "cm = confusion_matrix(y_test, y_pred)\n",
    "print(cm)"
   ]
  },
  {
   "cell_type": "markdown",
   "metadata": {},
   "source": [
    "#### Exercise 3. Glass Identification"
   ]
  },
  {
   "cell_type": "code",
   "execution_count": 18,
   "metadata": {},
   "outputs": [
    {
     "data": {
      "text/plain": [
       "'\\nproblem: identify different type of glasses based on chemical content \\ndataset: 214 samples, identified by chemical cpntent, which are\\n         RI, Na, Mg, Al, Si, K, Ca, Ba, Fe\\ninput: chemical content inside each glass sample\\noutput: type of glass (6 types = 6 classes)\\nmethod: multinomial logistic regression\\n'"
      ]
     },
     "execution_count": 18,
     "metadata": {},
     "output_type": "execute_result"
    }
   ],
   "source": [
    "'''\n",
    "problem: identify different type of glasses based on chemical content \n",
    "dataset: 214 samples, identified by chemical cpntent, which are\n",
    "         RI, Na, Mg, Al, Si, K, Ca, Ba, Fe\n",
    "input: chemical content inside each glass sample\n",
    "output: type of glass (6 types = 6 classes)\n",
    "method: multinomial logistic regression\n",
    "'''"
   ]
  },
  {
   "cell_type": "code",
   "execution_count": 1,
   "metadata": {},
   "outputs": [
    {
     "name": "stdout",
     "output_type": "stream",
     "text": [
      "<class 'pandas.core.frame.DataFrame'>\n",
      "RangeIndex: 214 entries, 0 to 213\n",
      "Data columns (total 11 columns):\n",
      " #   Column     Non-Null Count  Dtype  \n",
      "---  ------     --------------  -----  \n",
      " 0   Id_Number  214 non-null    int64  \n",
      " 1   RI         214 non-null    float64\n",
      " 2   Na         214 non-null    float64\n",
      " 3   Mg         214 non-null    float64\n",
      " 4   Al         214 non-null    float64\n",
      " 5   Si         214 non-null    float64\n",
      " 6   K          214 non-null    float64\n",
      " 7   Ca         214 non-null    float64\n",
      " 8   Ba         214 non-null    float64\n",
      " 9   Fe         214 non-null    float64\n",
      " 10  Type       214 non-null    int64  \n",
      "dtypes: float64(9), int64(2)\n",
      "memory usage: 18.5 KB\n",
      "None\n",
      "[1 2 3 5 6 7]\n",
      "Type\n",
      "2    76\n",
      "1    70\n",
      "7    29\n",
      "3    17\n",
      "5    13\n",
      "6     9\n",
      "Name: count, dtype: int64\n"
     ]
    }
   ],
   "source": [
    "from matplotlib import pyplot as plt\n",
    "import numpy as np\n",
    "import pandas as pd\n",
    "\n",
    "# load dataset from file\n",
    "file_data = 'glass.csv'\n",
    "glass_df = pd.read_csv(file_data)\n",
    "print(glass_df.info())\n",
    "\n",
    "glass_types = glass_df['Type'].unique()\n",
    "print(glass_types)\n",
    "\n",
    "print(glass_df['Type'].value_counts())"
   ]
  },
  {
   "cell_type": "code",
   "execution_count": 3,
   "metadata": {},
   "outputs": [
    {
     "name": "stdout",
     "output_type": "stream",
     "text": [
      "No. of training samples: 160\n",
      "No. of features: 10\n",
      "No. of classes: 6\n"
     ]
    }
   ],
   "source": [
    "# split data into training and test set\n",
    "from sklearn.model_selection import train_test_split\n",
    "\n",
    "X_1 = glass_df[glass_df.columns[:-1]]\n",
    "y_1 = glass_df['Type']\n",
    "\n",
    "X_train, X_test, y_train, y_test = train_test_split(X_1, y_1, test_size=0.25, random_state=42)\n",
    "\n",
    "print('No. of training samples:', X_train.shape[0])\n",
    "print('No. of features:', X_train.shape[1])\n",
    "print('No. of classes:', len(glass_types))"
   ]
  },
  {
   "cell_type": "code",
   "execution_count": 8,
   "metadata": {},
   "outputs": [
    {
     "name": "stdout",
     "output_type": "stream",
     "text": [
      "(214, 10)\n",
      "(214,)\n"
     ]
    }
   ],
   "source": [
    "print(X_1.shape)\n",
    "print(y_1.shape)"
   ]
  },
  {
   "cell_type": "code",
   "execution_count": 21,
   "metadata": {},
   "outputs": [
    {
     "data": {
      "text/plain": [
       "array([1, 7, 1, 7, 2, 2, 1, 2, 2, 2, 6, 5, 2, 2, 6, 5, 7, 1, 1, 6, 2, 7,\n",
       "       7, 7, 3, 2, 1, 1, 5, 1, 1, 2, 3, 2, 1, 7, 5, 3, 2, 2, 2, 7, 1, 2,\n",
       "       3, 2, 2, 2, 2, 2, 1, 1, 1, 2], dtype=int64)"
      ]
     },
     "execution_count": 21,
     "metadata": {},
     "output_type": "execute_result"
    }
   ],
   "source": [
    "# call built-in method\n",
    "lorg = LogisticRegression(multi_class='multinomial', solver='sag', max_iter=5000)\n",
    "# fit model\n",
    "lorg.fit(X_train, y_train)\n",
    "# predict using test set\n",
    "y_pred = lorg.predict(X_test)\n",
    "y_pred"
   ]
  },
  {
   "cell_type": "code",
   "execution_count": 22,
   "metadata": {},
   "outputs": [
    {
     "name": "stdout",
     "output_type": "stream",
     "text": [
      "Accuracy: 1.0\n",
      "[[14  0  0  0  0  0]\n",
      " [ 0 21  0  0  0  0]\n",
      " [ 0  0  4  0  0  0]\n",
      " [ 0  0  0  4  0  0]\n",
      " [ 0  0  0  0  3  0]\n",
      " [ 0  0  0  0  0  8]]\n"
     ]
    }
   ],
   "source": [
    "# accuracy score\n",
    "accu = accuracy_score(y_test, y_pred)\n",
    "print('Accuracy:', accu)\n",
    "# confusion matrix\n",
    "cm = confusion_matrix(y_test, y_pred)\n",
    "print(cm)"
   ]
  },
  {
   "cell_type": "markdown",
   "metadata": {},
   "source": [
    "#### Exercise 4. Handwritten digits recognition"
   ]
  },
  {
   "cell_type": "code",
   "execution_count": 23,
   "metadata": {},
   "outputs": [
    {
     "data": {
      "text/plain": [
       "'\\nproblem: identify handwritten digits (0-9) from images\\ndataset: handwritten digits images have been encoded into \\n        chains of bits representing pixels.\\n        training set - 60,000 samples\\n        test set - 10,000 samples\\ninput: images of handwritten digits (pixels encoded)\\noutput: predicted digit\\nmethod: multinomial logistic regression\\n'"
      ]
     },
     "execution_count": 23,
     "metadata": {},
     "output_type": "execute_result"
    }
   ],
   "source": [
    "'''\n",
    "problem: identify handwritten digits (0-9) from images\n",
    "dataset: handwritten digits images have been encoded into \n",
    "        chains of bits representing pixels.\n",
    "        training set - 60,000 samples\n",
    "        test set - 10,000 samples\n",
    "input: images of handwritten digits (pixels encoded)\n",
    "output: predicted digit\n",
    "method: multinomial logistic regression\n",
    "'''"
   ]
  },
  {
   "cell_type": "markdown",
   "metadata": {},
   "source": [
    "##### (a) Tự xây dựng hàm từ numpy"
   ]
  },
  {
   "cell_type": "code",
   "execution_count": 24,
   "metadata": {},
   "outputs": [],
   "source": [
    "# import library\n",
    "import os\n",
    "import numpy as np\n",
    "\n",
    "# define paths\n",
    "data_path = 'D:/python/pyforml/week04_multinomial-regression/homework'\n",
    "# train path\n",
    "train_img_path = os.path.join(data_path, 'train-images-idx3-ubyte.gz')\n",
    "train_labels_path = os.path.join(data_path, 'train-labels-idx1-ubyte.gz')\n",
    "# test path\n",
    "test_images_path = os.path.join(data_path, 't10k-images-idx3-ubyte.gz')\n",
    "test_labels_path = os.path.join(data_path, 't10k-labels-idx1-ubyte.gz')"
   ]
  },
  {
   "cell_type": "code",
   "execution_count": 25,
   "metadata": {},
   "outputs": [],
   "source": [
    "# extract and read data from file\n",
    "def get_mnist_data(images_path, labels_path, num_images, shuffle=False, _is=True, image_size=28):\n",
    "    \n",
    "    \"\"\"\n",
    "    This shuffle param is active when .gz is downloaded at:\n",
    "    - 'http://yann.lecun.com/exdb/mnist/'\n",
    "    - This function return random num_images in 60000 or 10000\n",
    "    \"\"\"\n",
    "    import gzip # to decompress gz (zip) file\n",
    "\n",
    "    # read training data\n",
    "    f_images = gzip.open(images_path,'r')\n",
    "\n",
    "    # skip 16 first bytes because these are not data, only header infor\n",
    "    f_images.read(16)\n",
    "\n",
    "    # general: read num_images data samples if this parameter is set;\n",
    "    # if not, read all (60000 training or 10000 test)\n",
    "    real_num = num_images if not shuffle else (60000 if _is else 10000)\n",
    "\n",
    "    # read all data to buf_images (28x28xreal_num)\n",
    "    buf_images = f_images.read(image_size * image_size * real_num)\n",
    "\n",
    "    # convert into images\n",
    "    images = np.frombuffer(buf_images, dtype=np.uint8).astype(np.float32)\n",
    "    images = images.reshape(real_num, image_size, image_size,)\n",
    "\n",
    "    # read labels\n",
    "    f_labels = gzip.open(labels_path,'r')\n",
    "    f_labels.read(8)\n",
    "\n",
    "    labels = np.zeros((real_num)).astype(np.int64)\n",
    "\n",
    "    # rearrange to correspond images and labels\n",
    "    for i in range(0, real_num):\n",
    "        buf_labels = f_labels.read(1)\n",
    "        labels[i] = np.frombuffer(buf_labels, dtype=np.uint8).astype(np.int64)\n",
    "\n",
    "    # shuffle to get random images data\n",
    "    if shuffle is True:\n",
    "        rand_id = np.random.randint(real_num, size=num_images)\n",
    "        images = images[rand_id, :]\n",
    "        labels = labels[rand_id,]\n",
    "        \n",
    "    # change images data to type of vector 28x28 dimentional\n",
    "    images = images.reshape(num_images, image_size * image_size)\n",
    "    return images, labels"
   ]
  },
  {
   "cell_type": "code",
   "execution_count": 26,
   "metadata": {},
   "outputs": [
    {
     "name": "stderr",
     "output_type": "stream",
     "text": [
      "C:\\Users\\Admin\\AppData\\Local\\Temp\\ipykernel_2440\\1250645001.py:37: DeprecationWarning: Conversion of an array with ndim > 0 to a scalar is deprecated, and will error in future. Ensure you extract a single element from your array before performing this operation. (Deprecated NumPy 1.25.)\n",
      "  labels[i] = np.frombuffer(buf_labels, dtype=np.uint8).astype(np.int64)\n"
     ]
    },
    {
     "name": "stdout",
     "output_type": "stream",
     "text": [
      "(5000, 784) (5000,)\n",
      "(10000, 784) (10000,)\n"
     ]
    }
   ],
   "source": [
    "# call read input method\n",
    "train_images, train_labels = get_mnist_data(\n",
    "    train_img_path, train_labels_path, 5000, shuffle=True)\n",
    "test_images, test_labels = get_mnist_data(\n",
    "    test_images_path, test_labels_path, 10000, _is=False, shuffle=True)\n",
    "\n",
    "print(train_images.shape, train_labels.shape)\n",
    "print(test_images.shape, test_labels.shape)"
   ]
  },
  {
   "cell_type": "code",
   "execution_count": 27,
   "metadata": {},
   "outputs": [],
   "source": [
    "# no. of dimension: 28x28=784\n",
    "# no. of classes: 10\n",
    "# no. of samples used: 5000 "
   ]
  },
  {
   "cell_type": "code",
   "execution_count": 28,
   "metadata": {},
   "outputs": [],
   "source": [
    "# convert matrix to image\n",
    "def get_image(image):\n",
    "    return image.reshape(28, 28)\n",
    "\n",
    "# self-built method for solving this problem\n",
    "def convert_labels(y, C):\n",
    "    from scipy import sparse\n",
    "    Y = sparse.coo_matrix((np.ones_like(y), (y, np.arange(len(y)))), shape = (C, len(y))).toarray()\n",
    "    return Y\n",
    "\n",
    "def softmax(Z):\n",
    "    e_Z = np.exp(Z)\n",
    "    A = e_Z / e_Z.sum(axis = 0)\n",
    "    return A\n",
    "\n",
    "def softmax_stable(Z):\n",
    "    e_Z = np.exp(Z - np.max(Z, axis = 0, keepdims = True))\n",
    "    A = e_Z / e_Z.sum(axis = 0)\n",
    "    return A\n",
    "\n",
    "def pred(W, X):\n",
    "    A = softmax_stable(W.T.dot(X))\n",
    "    return np.argmax(A, axis = 0)"
   ]
  },
  {
   "cell_type": "code",
   "execution_count": 29,
   "metadata": {},
   "outputs": [],
   "source": [
    "def _softmax_regression(X, Y, theta, lambda_=0.5, iterations=20, \n",
    "                        learning_rate=1e-5, batch_size=200):\n",
    "    from sklearn.metrics import log_loss\n",
    "\n",
    "    losses = []\n",
    "    _theta = theta\n",
    "    d, N = X.shape\n",
    "\n",
    "    for iter_ in range(iterations):\n",
    "        shuffle_index = np.random.permutation(N)\n",
    "        for i in shuffle_index:\n",
    "            xi = X[:, i].reshape(d, 1)\n",
    "            yi = Y[:, i].reshape(10, 1)\n",
    "            ai = softmax_stable(np.dot(_theta.T, xi))\n",
    "            _theta += learning_rate * xi.dot((yi - ai).T)\n",
    "            if (iter_ * N + i) % batch_size == 0:\n",
    "                Y_hat = np.dot(_theta.T, X)\n",
    "                losses.append(log_loss(Y, Y_hat))\n",
    "        Y_hat = np.dot(_theta.T, X)\n",
    "        print(f\"epoch {iter_} - cost {log_loss(Y, Y_hat) / N}\")\n",
    "    \n",
    "    return _theta, losses"
   ]
  },
  {
   "cell_type": "code",
   "execution_count": 30,
   "metadata": {},
   "outputs": [
    {
     "name": "stdout",
     "output_type": "stream",
     "text": [
      "1 8\n"
     ]
    },
    {
     "data": {
      "text/plain": [
       "<Figure size 640x480 with 0 Axes>"
      ]
     },
     "metadata": {},
     "output_type": "display_data"
    },
    {
     "data": {
      "image/png": "[encoded data removed]",
      "text/plain": [
       "<Figure size 640x480 with 2 Axes>"
      ]
     },
     "metadata": {},
     "output_type": "display_data"
    }
   ],
   "source": [
    "# for display and test digit\n",
    "import random\n",
    "import matplotlib.pyplot as plt\n",
    "\n",
    "index = random.randint(0, 1000)\n",
    "print(train_labels[index], test_labels[index])\n",
    "\n",
    "train_image = np.asarray(get_image(train_images[index])).squeeze()\n",
    "test_image = np.asarray(get_image(test_images[index])).squeeze()\n",
    "plt.figure()\n",
    "\n",
    "#subplot(r,c) provide the no. of rows and columns\n",
    "f, axarr = plt.subplots(1, 2)\n",
    "\n",
    "# use the created array to output your multiple images. \n",
    "# in this case we have stacked 2 images vertically\n",
    "axarr[0].imshow(train_image)\n",
    "axarr[1].imshow(test_image)\n",
    "plt.show()"
   ]
  },
  {
   "cell_type": "code",
   "execution_count": 32,
   "metadata": {},
   "outputs": [
    {
     "name": "stdout",
     "output_type": "stream",
     "text": [
      "(785, 5000)\n",
      "(10, 5000)\n"
     ]
    }
   ],
   "source": [
    "# prepare training data\n",
    "X_train = np.concatenate((np.ones((1, train_images.shape[0])), \n",
    "                          train_images.T), axis = 0)\n",
    "Y_train = convert_labels(train_labels, 10)\n",
    "print(X_train.shape)\n",
    "print(Y_train.shape)"
   ]
  },
  {
   "cell_type": "code",
   "execution_count": null,
   "metadata": {},
   "outputs": [],
   "source": [
    "# fit model and print out loss value\n",
    "theta = np.zeros((X_train.shape[0], 10))\n",
    "opt_theta, losses = _softmax_regression(X_train, Y_train, theta)\n",
    "print('training success: ', opt_theta.shape, len(losses))"
   ]
  },
  {
   "cell_type": "code",
   "execution_count": 34,
   "metadata": {},
   "outputs": [
    {
     "name": "stdout",
     "output_type": "stream",
     "text": [
      "accuracy training data:  0.9448\n"
     ]
    }
   ],
   "source": [
    "from sklearn.metrics import accuracy_score\n",
    "\n",
    "print('accuracy training data: ', accuracy_score(train_labels, pred(opt_theta, X_train)))"
   ]
  },
  {
   "cell_type": "markdown",
   "metadata": {},
   "source": [
    "##### (b) Giảm chiều & trực quan hóa dữ liệu (PCA)"
   ]
  },
  {
   "cell_type": "code",
   "execution_count": 35,
   "metadata": {},
   "outputs": [
    {
     "data": {
      "text/plain": [
       "(5000, 784)"
      ]
     },
     "execution_count": 35,
     "metadata": {},
     "output_type": "execute_result"
    }
   ],
   "source": [
    "train_images.shape"
   ]
  },
  {
   "cell_type": "code",
   "execution_count": 36,
   "metadata": {},
   "outputs": [
    {
     "data": {
      "image/png": "[encoded data removed]",
      "text/plain": [
       "<Figure size 640x480 with 1 Axes>"
      ]
     },
     "metadata": {},
     "output_type": "display_data"
    }
   ],
   "source": [
    "from sklearn.decomposition import PCA\n",
    "from sklearn.preprocessing import StandardScaler\n",
    "\n",
    "scaled_images = StandardScaler().fit_transform(train_images)\n",
    "pca = PCA(n_components=2) # 2-dimensional PCA\n",
    "transformed = pd.DataFrame(pca.fit_transform(scaled_images))\n",
    "\n",
    "# visualize\n",
    "plt.axis(\"off\")\n",
    "plt.scatter(transformed[train_labels==0][0], transformed[train_labels==0][1], s=5, label='0', c='red')\n",
    "plt.scatter(transformed[train_labels==1][0], transformed[train_labels==1][1], s=5, label='1', c='green')\n",
    "plt.scatter(transformed[train_labels==2][0], transformed[train_labels==2][1], s=5, label='2', c='blue')\n",
    "plt.scatter(transformed[train_labels==3][0], transformed[train_labels==3][1], s=5, label='3', c='yellow')\n",
    "plt.scatter(transformed[train_labels==4][0], transformed[train_labels==4][1], s=5, label='4', c='orange')\n",
    "plt.scatter(transformed[train_labels==5][0], transformed[train_labels==5][1], s=5, label='5', c='pink')\n",
    "plt.scatter(transformed[train_labels==6][0], transformed[train_labels==6][1], s=5, label='6', c='purple')\n",
    "plt.scatter(transformed[train_labels==7][0], transformed[train_labels==7][1], s=5, label='7', c='black')\n",
    "plt.scatter(transformed[train_labels==8][0], transformed[train_labels==8][1], s=5, label='8', c='darkblue')\n",
    "plt.scatter(transformed[train_labels==9][0], transformed[train_labels==9][1], s=5, label='9', c='coral')\n",
    "plt.legend()\n",
    "plt.show()\n",
    "\n",
    "# giảm xuống 2 chiều không tách bạch được rõ các lớp của dataset"
   ]
  },
  {
   "cell_type": "markdown",
   "metadata": {},
   "source": [
    "##### (c) sử dụng thư viện "
   ]
  },
  {
   "cell_type": "code",
   "execution_count": 37,
   "metadata": {},
   "outputs": [
    {
     "name": "stderr",
     "output_type": "stream",
     "text": [
      "c:\\Users\\Admin\\Python\\lib\\site-packages\\sklearn\\linear_model\\_sag.py:350: ConvergenceWarning: The max_iter was reached which means the coef_ did not converge\n",
      "  warnings.warn(\n"
     ]
    }
   ],
   "source": [
    "from sklearn.linear_model import LogisticRegression\n",
    "\n",
    "# fit model\n",
    "lorg = LogisticRegression(multi_class='multinomial', solver='sag', max_iter=100)\n",
    "lorg.fit(train_images, train_labels)\n",
    "\n",
    "# predict\n",
    "Y_pred = lorg.predict(test_images)"
   ]
  },
  {
   "cell_type": "code",
   "execution_count": 38,
   "metadata": {},
   "outputs": [
    {
     "name": "stdout",
     "output_type": "stream",
     "text": [
      "Accuracy: 0.8864\n",
      "[[ 934    0    9    6    0   13   11   10    5    2]\n",
      " [   0 1083    2    2    0    1    2    2   16    0]\n",
      " [  11   16  856   35    4   14   30   20   40   13]\n",
      " [   8    3   18  877    4   34    4   11   36   10]\n",
      " [   1   10    4    5  867    0   21    1   18   53]\n",
      " [  18    7   10   47   15  698    9    3   39   13]\n",
      " [  12    3   12    0   17   16  932    1    8    2]\n",
      " [   4    9   20   15   20    0    0  907    2   31]\n",
      " [   6   18    9   31   12   45    9   14  838   14]\n",
      " [   7   12    4   11   56   14    1   28    7  872]]\n"
     ]
    }
   ],
   "source": [
    "# accuracy score\n",
    "accu = accuracy_score(test_labels, Y_pred)\n",
    "print('Accuracy:', accu)\n",
    "# confusion matrix\n",
    "cm = confusion_matrix(test_labels, Y_pred)\n",
    "print(cm)"
   ]
  }
 ],
 "metadata": {
  "kernelspec": {
   "display_name": "Python 3",
   "language": "python",
   "name": "python3"
  },
  "language_info": {
   "codemirror_mode": {
    "name": "ipython",
    "version": 3
   },
   "file_extension": ".py",
   "mimetype": "text/x-python",
   "name": "python",
   "nbconvert_exporter": "python",
   "pygments_lexer": "ipython3",
   "version": "3.10.7"
  }
 },
 "nbformat": 4,
 "nbformat_minor": 2
}
