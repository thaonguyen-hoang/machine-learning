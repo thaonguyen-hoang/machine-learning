{
 "cells": [
  {
   "cell_type": "markdown",
   "metadata": {},
   "source": [
    "#### Example. Random generated data"
   ]
  },
  {
   "cell_type": "markdown",
   "metadata": {},
   "source": [
    "##### 1. generate data"
   ]
  },
  {
   "cell_type": "code",
   "execution_count": 106,
   "metadata": {},
   "outputs": [],
   "source": [
    "# list of points\n",
    "import numpy as np\n",
    "import matplotlib.pyplot as plt\n",
    "from scipy.spatial.distance import cdist\n",
    "np.random.seed(21)\n",
    "from matplotlib.backends.backend_pdf import PdfPages\n",
    "\n",
    "means = [[2, 2], [3, 1]]\n",
    "cov = [[.3, .2], [.2, .3]]\n",
    "N = 100\n",
    "X0 = np.random.multivariate_normal(means[0], cov, N)\n",
    "X1 = np.random.multivariate_normal(means[1], cov, N)\n",
    "\n",
    "X1[-1, :] = [2.7, 2] # change to make sure at least one point is misplaced \n",
    "X = np.concatenate((X0.T, X1.T), axis = 1)\n",
    "y = np.concatenate((np.ones((1, N)), -1*np.ones((1, N))), axis = 1)"
   ]
  },
  {
   "cell_type": "code",
   "execution_count": 10,
   "metadata": {},
   "outputs": [
    {
     "data": {
      "image/png": "[encoded data removed]",
      "text/plain": [
       "<Figure size 1000x1000 with 1 Axes>"
      ]
     },
     "metadata": {},
     "output_type": "display_data"
    }
   ],
   "source": [
    "# visualize 2d\n",
    "import matplotlib.pyplot as plt\n",
    "fig, ax = plt.subplots(figsize=(10, 10))\n",
    "ani = plt.cla()\n",
    "#plot points\n",
    "ani = plt.plot(X0.T[0, :], X0.T[1, :], 'b^', markersize = 5, alpha = .8)\n",
    "ani = plt.plot(X1.T[0, :], X1.T[1, :], 'ro', markersize = 5, alpha = .8)\n",
    "ani = plt.axis([0 , 6, 0, 6])\n",
    "plt.show()"
   ]
  },
  {
   "cell_type": "markdown",
   "metadata": {},
   "source": [
    "##### 2. solve using quadratic programming"
   ]
  },
  {
   "cell_type": "code",
   "execution_count": 107,
   "metadata": {},
   "outputs": [
    {
     "name": "stdout",
     "output_type": "stream",
     "text": [
      "lambda = \n",
      " [[7.40072546e-08 1.91607390e-07 1.38875311e+01 7.97994212e-08\n",
      "  6.89508163e-08 3.98805625e-08 1.02247228e-07 8.91558791e-08\n",
      "  6.11176818e-08 6.87142408e-08 1.58616901e-07 9.99999989e+01\n",
      "  6.31608259e-08 4.75316553e-08 5.07776806e-08 4.21753680e-08\n",
      "  6.06648131e+01 4.13912060e-08 4.59302903e-08 6.20253903e-08\n",
      "  6.20905376e-08 3.45674164e-08 9.53161952e-08 1.58377198e-07\n",
      "  2.82899282e-07 4.97335537e-08 5.30507016e-08 4.97044350e-08\n",
      "  4.04110496e-08 3.62269915e-08 4.95176976e-08 8.96224612e-08\n",
      "  4.52194912e-08 7.47989742e-08 5.41851771e-08 6.05917136e-08\n",
      "  5.16209379e-07 2.73708852e-08 2.85816793e-08 9.43531343e-08\n",
      "  1.73875399e-07 5.86717736e-08 5.02212314e-08 4.89985797e-08\n",
      "  1.52766425e-07 1.88427022e-07 3.40090449e-08 5.78497059e-08\n",
      "  2.85602841e-08 1.57609429e-07 1.09966838e-07 5.50802808e-08\n",
      "  5.07238270e-08 4.98001330e-08 1.47055333e-07 5.98956818e-08\n",
      "  1.43396499e-07 1.51070328e-07 8.44247949e-08 1.55370772e-07\n",
      "  4.39171902e-08 6.16571169e-08 1.15552379e-07 7.32081392e-08\n",
      "  4.43339078e-08 1.72999069e-07 4.61987392e-08 8.39997513e-08\n",
      "  6.01791344e-08 5.46146941e-08 6.71859036e-08 5.36805473e-08\n",
      "  7.30328114e-08 1.05345562e-07 7.37554703e-08 5.12457983e-08\n",
      "  2.52371816e-08 5.53263230e-08 1.40419217e-07 6.92510642e-06\n",
      "  8.12035986e-08 4.57721676e-08 7.62802695e-08 6.43420507e-08\n",
      "  4.61319679e-08 5.76305642e-08 4.91086377e-07 5.96415632e-08\n",
      "  1.29324728e-07 8.48904399e-08 1.40404438e-07 3.85719839e-08\n",
      "  8.35918031e-08 6.05102208e-08 6.90791762e-08 4.47977515e-08\n",
      "  1.41690892e-07 5.63957647e-08 5.69537079e-08 5.55608278e-08\n",
      "  4.88646193e-08 3.69111818e-08 7.41363555e-08 4.06577568e-08\n",
      "  8.51215010e-08 3.83328603e-08 8.71801346e-08 9.59253213e-08\n",
      "  3.60467859e-08 6.73919526e-08 5.63584480e-08 2.04928418e-07\n",
      "  1.02784760e-07 5.49706648e-08 2.89256611e-08 1.47081468e-07\n",
      "  3.11605339e-08 3.89397576e-08 6.43293253e-08 4.76090841e-08\n",
      "  7.27573887e-08 7.00509040e-08 4.85417762e-08 3.01169974e-07\n",
      "  4.59695528e-07 3.64280841e-08 2.24380505e-07 4.98770030e-08\n",
      "  4.43804247e-08 5.47119075e-08 5.80416612e-08 5.97519125e-08\n",
      "  4.58541824e-08 4.67350089e-08 4.07544393e-08 4.26227296e-08\n",
      "  5.51453121e-08 4.82399453e-08 6.65917511e-08 6.63359834e-08\n",
      "  6.84657870e-08 2.78389592e-08 4.73881453e-08 8.13687009e-05\n",
      "  4.41752372e-08 1.19821396e-07 4.69752273e-08 6.26413732e-08\n",
      "  6.79290817e-08 6.56143084e-08 4.36507029e-08 4.75618972e-08\n",
      "  5.79058347e-08 9.77595317e-08 5.96789631e-08 4.88163317e-08\n",
      "  7.12955765e-08 9.36196465e-08 4.67966553e-07 3.76751568e-07\n",
      "  9.85681627e-08 5.53893927e-08 1.14370309e-07 2.04363412e-07\n",
      "  2.11694432e-07 7.45522686e+01 9.18366900e-08 9.53903096e-08\n",
      "  4.72039446e-08 3.53760141e-08 8.01162599e-08 4.97716053e-08\n",
      "  2.24955097e-07 3.48460867e-08 1.37021535e-07 1.29416454e-07\n",
      "  5.40121637e-08 2.22246982e-07 2.36680838e-08 4.54363841e-08\n",
      "  2.31693788e-07 4.91638325e-08 8.69186518e-08 3.19426980e-08\n",
      "  8.02011650e-08 8.35385692e-08 1.12030209e-07 6.29779367e-08\n",
      "  7.42049937e-08 3.56873310e-08 5.89196151e-08 7.25246505e-08\n",
      "  8.20961082e-08 9.22217456e-08 6.98568737e-08 4.87766451e-08\n",
      "  5.49600327e-08 1.03684487e-07 5.69400890e-08 9.99999998e+01]]\n"
     ]
    }
   ],
   "source": [
    "from cvxopt import matrix, solvers\n",
    "\n",
    "C = 100\n",
    "# build K\n",
    "V = np.concatenate((X0.T, -X1.T), axis = 1)\n",
    "K = matrix(V.T.dot(V))\n",
    "\n",
    "p = matrix(-np.ones((2*N, 1)))\n",
    "# build A, b, G, h\n",
    "G = matrix(np.vstack((-np.eye(2*N), np.eye(2*N))))\n",
    "\n",
    "h = matrix(np.vstack((np.zeros((2*N, 1)), C*np.ones((2*N, 1)))))\n",
    "A = matrix(y.reshape((-1, 2*N)))\n",
    "b = matrix(np.zeros((1, 1)))\n",
    "solvers.options['show_progress'] = False\n",
    "sol = solvers.qp(K, p, G, h, A, b)\n",
    "\n",
    "l = np.array(sol['x'])\n",
    "print('lambda = \\n', l.T)"
   ]
  },
  {
   "cell_type": "code",
   "execution_count": 40,
   "metadata": {},
   "outputs": [
    {
     "name": "stdout",
     "output_type": "stream",
     "text": [
      "[[-5.07603023  5.15396033]] 4.795150755696481\n"
     ]
    }
   ],
   "source": [
    "S = np.where(l > 1e-5)[0] # support set\n",
    "S2 = np.where(l < .999*C)[0]\n",
    "\n",
    "M = np.array([val for val in S if val in S2]) # intersection of two lists\n",
    "\n",
    "XT = X.T # we need each column to be one data point in this alg\n",
    "VS = V[:, S]\n",
    "lS = l[S]\n",
    "yM = y[0][M]\n",
    "\n",
    "XM = XT[M]\n",
    "\n",
    "w_dual = VS.dot(lS).reshape(-1, 1)\n",
    "b_dual = np.mean(yM.T - w_dual.T.dot(XM.T))\n",
    "print(w_dual.T, b_dual)"
   ]
  },
  {
   "cell_type": "markdown",
   "metadata": {},
   "source": [
    "##### 3. solve using unconstrained programming"
   ]
  },
  {
   "cell_type": "code",
   "execution_count": 44,
   "metadata": {},
   "outputs": [],
   "source": [
    "X0_bar = np.vstack((X0.T, np.ones((1, N)))) # extended data\n",
    "X1_bar = np.vstack((X1.T, np.ones((1, N)))) # extended data\n",
    "\n",
    "Z = np.hstack((X0_bar, - X1_bar)) # as in (22)\n",
    "lam = 1./C"
   ]
  },
  {
   "cell_type": "code",
   "execution_count": 45,
   "metadata": {},
   "outputs": [],
   "source": [
    "def cost(w):\n",
    "    u = w.T.dot(Z) # as in (23)\n",
    "    return (np.sum(np.maximum(0, 1 - u)) + \n",
    "            .5*lam*np.sum(w*w)) - .5*lam*w[-1]*w[-1] # no bias"
   ]
  },
  {
   "cell_type": "code",
   "execution_count": 46,
   "metadata": {},
   "outputs": [],
   "source": [
    "def grad(w):\n",
    "    u = w.T.dot(Z) # as in (23)\n",
    "    H = np.where(u < 1)[1]\n",
    "    ZS = Z[:, H]\n",
    "    g = (-np.sum(ZS, axis = 1, keepdims = True) + lam*w)\n",
    "    g[-1] -= lam*w[-1] # no weight decay on bias\n",
    "    return g"
   ]
  },
  {
   "cell_type": "code",
   "execution_count": 47,
   "metadata": {},
   "outputs": [],
   "source": [
    "eps = 1e-6\n",
    "def num_grad(w):\n",
    "    g = np.zeros_like(w)\n",
    "    for i in range(len(w)):\n",
    "        wp = w.copy()\n",
    "        wm = w.copy()\n",
    "        wp[i] += eps\n",
    "\n",
    "        wm[i] -= eps\n",
    "        g[i] = (cost(wp) - cost(wm))/(2*eps)\n",
    "    return g"
   ]
  },
  {
   "cell_type": "code",
   "execution_count": 48,
   "metadata": {},
   "outputs": [
    {
     "name": "stdout",
     "output_type": "stream",
     "text": [
      "Gradient different: 0.000000\n"
     ]
    }
   ],
   "source": [
    "w0 = np.random.randn(X0_bar.shape[0], 1)\n",
    "g1 = grad(w0)\n",
    "g2 = num_grad(w0)\n",
    "diff = np.linalg.norm(g1 - g2)\n",
    "print('Gradient different: %f' %diff)"
   ]
  },
  {
   "cell_type": "code",
   "execution_count": 49,
   "metadata": {},
   "outputs": [
    {
     "name": "stderr",
     "output_type": "stream",
     "text": [
      "C:\\Users\\Admin\\AppData\\Local\\Temp\\ipykernel_12464\\3174740377.py:9: DeprecationWarning: Conversion of an array with ndim > 0 to a scalar is deprecated, and will error in future. Ensure you extract a single element from your array before performing this operation. (Deprecated NumPy 1.25.)\n",
      "  print('iter %d' %it + ' cost: %f' %cost(w))\n"
     ]
    },
    {
     "name": "stdout",
     "output_type": "stream",
     "text": [
      "iter 1 cost: 517.738815\n",
      "iter 10001 cost: 3.280800\n",
      "iter 20001 cost: 3.241315\n",
      "iter 30001 cost: 3.231145\n",
      "iter 40001 cost: 3.230590\n",
      "iter 50001 cost: 3.230544\n",
      "iter 60001 cost: 3.230498\n",
      "iter 70001 cost: 3.240517\n",
      "iter 80001 cost: 3.230341\n",
      "iter 90001 cost: 3.241648\n",
      "[[-5.07362939  5.149011  ]] [4.79059187]\n"
     ]
    }
   ],
   "source": [
    "def grad_descent(w0, eta):\n",
    "    w = w0\n",
    "    it = 0\n",
    "    while it < 100000:\n",
    "        it = it + 1\n",
    "        g = grad(w)\n",
    "        w -= eta*g\n",
    "        if (it % 10000) == 1:\n",
    "            print('iter %d' %it + ' cost: %f' %cost(w))\n",
    "        if np.linalg.norm(g) < 1e-5:\n",
    "            break\n",
    "    return w\n",
    "\n",
    "w0 = np.random.randn(X0_bar.shape[0], 1)\n",
    "w = grad_descent(w0, 0.001)\n",
    "w_hinge = w[:-1].reshape(-1, 1)\n",
    "b_hinge = w[-1]\n",
    "print(w_hinge.T, b_hinge)"
   ]
  },
  {
   "cell_type": "markdown",
   "metadata": {},
   "source": [
    "##### 4. solve using sklearn"
   ]
  },
  {
   "cell_type": "code",
   "execution_count": 41,
   "metadata": {},
   "outputs": [
    {
     "name": "stdout",
     "output_type": "stream",
     "text": [
      "w =  [[-5.07509054  5.1523768 ]]\n",
      "b =  [4.7875035]\n"
     ]
    }
   ],
   "source": [
    "from sklearn.svm import SVC\n",
    "# Copy and put code for generate data here\n",
    "y1 = y.reshape((2*N,))\n",
    "X1 = X.T # each sample is one row\n",
    "clf = SVC(kernel = 'linear', C = 100) # use the same C\n",
    "\n",
    "# if C is small, method will be “SoftMagin SVM”,\n",
    "# if C is large enough, method is near to hard margin\n",
    "clf.fit(X1, y1)\n",
    "\n",
    "w = clf.coef_\n",
    "w0 = clf.intercept_\n",
    "print('w = ', w)\n",
    "print('b = ', w0)"
   ]
  },
  {
   "cell_type": "markdown",
   "metadata": {},
   "source": [
    "##### 5. predict"
   ]
  },
  {
   "cell_type": "markdown",
   "metadata": {},
   "source": [
    "compute using theoretical formula"
   ]
  },
  {
   "cell_type": "code",
   "execution_count": 84,
   "metadata": {},
   "outputs": [
    {
     "name": "stdout",
     "output_type": "stream",
     "text": [
      "0.995\n",
      "0.9900990099009901\n",
      "1.0\n",
      "[[ 99   1]\n",
      " [  0 100]]\n"
     ]
    }
   ],
   "source": [
    "# predict\n",
    "pred = np.sign(w_dual.T.dot(X) + b_dual)\n",
    "\n",
    "# accuracy\n",
    "from sklearn.metrics import accuracy_score, confusion_matrix, precision_score, recall_score\n",
    "\n",
    "print(accuracy_score(y[0], pred[0]))\n",
    "print(precision_score(y[0], pred[0]))\n",
    "print(recall_score(y[0], pred[0]))\n",
    "print(confusion_matrix(y[0], pred[0]))"
   ]
  },
  {
   "cell_type": "markdown",
   "metadata": {},
   "source": [
    "SVC predict function"
   ]
  },
  {
   "cell_type": "code",
   "execution_count": 88,
   "metadata": {},
   "outputs": [
    {
     "name": "stdout",
     "output_type": "stream",
     "text": [
      "0.995\n",
      "0.9900990099009901\n",
      "1.0\n",
      "[[ 99   1]\n",
      " [  0 100]]\n"
     ]
    }
   ],
   "source": [
    "y_pred = clf.predict(X.T)\n",
    "\n",
    "print(accuracy_score(y[0], y_pred))\n",
    "print(precision_score(y[0], y_pred))\n",
    "print(recall_score(y[0], y_pred))\n",
    "print(confusion_matrix(y[0], y_pred))"
   ]
  },
  {
   "cell_type": "markdown",
   "metadata": {},
   "source": [
    "#### Exercise 1. Brease Cancer"
   ]
  },
  {
   "cell_type": "markdown",
   "metadata": {},
   "source": [
    "##### 1. load and split data"
   ]
  },
  {
   "cell_type": "code",
   "execution_count": 89,
   "metadata": {},
   "outputs": [
    {
     "name": "stdout",
     "output_type": "stream",
     "text": [
      "[1.245e+01 1.570e+01 8.257e+01 4.771e+02 1.278e-01 1.700e-01 1.578e-01\n",
      " 8.089e-02 2.087e-01 7.613e-02 3.345e-01 8.902e-01 2.217e+00 2.719e+01\n",
      " 7.510e-03 3.345e-02 3.672e-02 1.137e-02 2.165e-02 5.082e-03 1.547e+01\n",
      " 2.375e+01 1.034e+02 7.416e+02 1.791e-01 5.249e-01 5.355e-01 1.741e-01\n",
      " 3.985e-01 1.244e-01]\n",
      "(569, 30)\n",
      "[0 0 0 0 0 0 0 0 0 0 0 0 0 0 0 0 0 0 0 1 1 1 0 0 0 0 0 0 0 0 0 0 0 0 0 0 0\n",
      " 1 0 0 0 0 0 0 0 0 1 0 1 1 1 1 1 0 0 1 0 0 1 1 1 1 0 1 0 0 1 1 1 1 0 1 0 0\n",
      " 1 0 1 0 0 1 1 1 0 0 1 0 0 0 1 1 1 0 1 1 0 0 1 1 1 0 0 1 1 1 1 0 1 1 0 1 1\n",
      " 1 1 1 1 1 1 0 0 0 1 0 0 1 1 1 0 0 1 0 1 0 0 1 0 0 1 1 0 1 1 0 1 1 1 1 0 1\n",
      " 1 1 1 1 1 1 1 1 0 1 1 1 1 0 0 1 0 1 1 0 0 1 1 0 0 1 1 1 1 0 1 1 0 0 0 1 0\n",
      " 1 0 1 1 1 0 1 1 0 0 1 0 0 0 0 1 0 0 0 1 0 1 0 1 1 0 1 0 0 0 0 1 1 0 0 1 1\n",
      " 1 0 1 1 1 1 1 0 0 1 1 0 1 1 0 0 1 0 1 1 1 1 0 1 1 1 1 1 0 1 0 0 0 0 0 0 0\n",
      " 0 0 0 0 0 0 0 1 1 1 1 1 1 0 1 0 1 1 0 1 1 0 1 0 0 1 1 1 1 1 1 1 1 1 1 1 1\n",
      " 1 0 1 1 0 1 0 1 1 1 1 1 1 1 1 1 1 1 1 1 1 0 1 1 1 0 1 0 1 1 1 1 0 0 0 1 1\n",
      " 1 1 0 1 0 1 0 1 1 1 0 1 1 1 1 1 1 1 0 0 0 1 1 1 1 1 1 1 1 1 1 1 0 0 1 0 0\n",
      " 0 1 0 0 1 1 1 1 1 0 1 1 1 1 1 0 1 1 1 0 1 1 0 0 1 1 1 1 1 1 0 1 1 1 1 1 1\n",
      " 1 0 1 1 1 1 1 0 1 1 0 1 1 1 1 1 1 1 1 1 1 1 1 0 1 0 0 1 0 1 1 1 1 1 0 1 1\n",
      " 0 1 0 1 1 0 1 0 1 1 1 1 1 1 1 1 0 0 1 1 1 1 1 1 0 1 1 1 1 1 1 1 1 1 1 0 1\n",
      " 1 1 1 1 1 1 0 1 0 1 1 0 1 1 1 1 1 0 0 1 0 1 0 1 1 1 1 1 0 1 1 0 1 0 1 0 0\n",
      " 1 1 1 0 1 1 1 1 1 1 1 1 1 1 1 0 1 0 0 1 1 1 1 1 1 1 1 1 1 1 1 1 1 1 1 1 1\n",
      " 1 1 1 1 1 1 1 0 0 0 0 0 0 1]\n"
     ]
    }
   ],
   "source": [
    "from sklearn import datasets\n",
    "\n",
    "cancer_data = datasets.load_breast_cancer()\n",
    "# show to test record 5th\n",
    "print(cancer_data.data[5])\n",
    "print(cancer_data.data.shape)\n",
    "#target set\n",
    "print(cancer_data.target)"
   ]
  },
  {
   "cell_type": "code",
   "execution_count": 123,
   "metadata": {},
   "outputs": [],
   "source": [
    "y = cancer_data.target\n",
    "y[cancer_data.target == 0] = -1"
   ]
  },
  {
   "cell_type": "code",
   "execution_count": 124,
   "metadata": {},
   "outputs": [
    {
     "name": "stdout",
     "output_type": "stream",
     "text": [
      "(398, 30)\n",
      "(171, 30)\n",
      "(398,)\n",
      "(171,)\n"
     ]
    }
   ],
   "source": [
    "from sklearn.model_selection import train_test_split\n",
    "cancer_data = datasets.load_breast_cancer()\n",
    "X_train, X_test, y_train, y_test = train_test_split(cancer_data.data, y, test_size=0.3, random_state=109)\n",
    "\n",
    "print(X_train.shape)\n",
    "print(X_test.shape)\n",
    "print(y_train.shape)\n",
    "print(y_test.shape)"
   ]
  },
  {
   "cell_type": "markdown",
   "metadata": {},
   "source": [
    "##### 2. classification using SVM"
   ]
  },
  {
   "cell_type": "markdown",
   "metadata": {},
   "source": [
    "method 1. quadratic programming"
   ]
  },
  {
   "cell_type": "code",
   "execution_count": 156,
   "metadata": {},
   "outputs": [
    {
     "name": "stdout",
     "output_type": "stream",
     "text": [
      "lambda = \n",
      " [[6.70932523e-166 4.53460215e+001 4.89659478e-166 5.69968140e+001\n",
      "  1.13809504e-165 4.52420434e-165 4.56728750e-165 1.63992420e-165\n",
      "  8.89389477e-166 2.31151807e-165 1.33053366e-165 1.48769637e-165\n",
      "  1.25373070e-165 7.91595596e-166 7.32499582e-166 1.77647746e-165\n",
      "  3.68412402e-164 6.96447875e-166 2.90472219e-165 1.11360941e-165\n",
      "  1.91696309e-165 4.70823582e-166 7.00520903e+001 7.10506554e-165\n",
      "  5.84759946e-166 1.27071469e-165 1.77349591e-165 7.68412804e-166\n",
      "  9.62315264e-166 1.36488076e-165 9.52648331e-166 1.49491315e-165\n",
      "  3.07524327e-165 1.12188928e-165 1.00000000e+002 8.20359112e-166\n",
      "  9.19835236e-166 1.00970223e-165 9.91888936e-166 1.03540399e-164\n",
      "  1.41210603e-165 1.05974209e-165 1.16040114e-165 2.46434406e-165\n",
      "  1.00974008e-164 2.94523944e-165 8.70894776e-166 7.61650142e-166\n",
      "  1.20268881e-165 8.51523718e-166 8.60795651e-166 1.93875590e-165\n",
      "  8.21312557e-166 1.00000000e+002 8.09471253e+001 6.71463777e-166\n",
      "  2.52676666e-165 1.12679288e-165 3.97005285e-165 1.24122679e-165\n",
      "  7.66770553e-166 1.31155757e-165 8.28223670e-166 1.29964955e-165\n",
      "  9.03272477e-166 8.60526590e-166 9.32923970e-166 4.96711727e-165\n",
      "  3.83687395e-165 2.45082098e-165 1.06995891e-165 8.34837681e-166\n",
      "  8.40025025e-166 1.44263617e-165 7.66124465e-166 7.42480550e-166\n",
      "  7.35445200e-166 8.07278502e-166 5.98733897e-165 8.19507975e-166\n",
      "  6.98156228e-166 1.17939713e-165 9.61981422e-166 8.83164738e-166\n",
      "  3.21849006e+001 8.36658418e-166 1.04070132e-165 8.42385508e-166\n",
      "  9.12009599e-166 5.52236097e-165 1.22778588e-165 2.16559434e-165\n",
      "  1.22888764e-165 7.28739449e-166 7.13048317e-166 8.30132140e-166\n",
      "  1.10590161e-165 1.99944029e-165 1.36531099e-165 1.00000000e+002\n",
      "  1.68120587e-165 8.92797038e-166 1.35330158e-165 7.43208868e-166\n",
      "  8.60994615e-166 1.10831953e-165 3.27269995e+000 9.72135971e-166\n",
      "  1.73180270e-165 1.00000000e+002 5.77896227e-166 1.38545238e-165\n",
      "  2.31236557e-165 2.14570846e-165 8.27022574e-166 1.00227180e-164\n",
      "  3.34902644e-165 8.87721192e-166 6.76337418e-166 7.94584225e-165\n",
      "  1.81562387e-165 7.36458186e-166 6.70585749e-166 8.43753430e-164\n",
      "  1.35344619e-165 1.91960492e-165 1.37666278e-165 1.00000000e+002\n",
      "  1.05375876e-165 7.37022145e-166 1.88601838e-165 9.84595921e-166\n",
      "  5.17628568e+001 1.68242072e-165 9.02510275e-166 5.75415516e-166\n",
      "  1.00000000e+002 1.56252876e-165 2.97826653e-165 7.79950602e-166\n",
      "  1.00000000e+002 1.11253547e-165 8.67217110e-166 7.14924870e-166\n",
      "  3.13826003e-166 1.29785920e-165 2.90148073e-165 4.44566231e-166\n",
      "  1.37524219e-165 1.66687457e-165 1.04272382e-165 5.60791224e-166\n",
      "  5.13285926e-165 8.12211472e-166 2.34585125e-165 1.74883348e-165\n",
      "  7.84331057e-166 1.68008455e-165 1.48894380e-165 5.74402143e-166\n",
      "  1.35397778e-165 6.94754980e-166 3.10143754e-165 4.82305953e-165\n",
      "  4.21267605e-165 1.35213725e-165 6.26452268e-165 5.04772579e-166\n",
      "  6.82453594e-166 4.37186344e-165 1.22697112e-165 9.69089004e-166\n",
      "  8.55497740e-166 1.96834353e-165 1.09369041e-165 9.01983898e-166\n",
      "  1.27482363e-165 2.48182288e-165 1.35757753e-165 8.08361028e-166\n",
      "  1.78014648e-164 5.82733968e-166 1.25051095e-165 1.30394592e-165\n",
      "  8.69958157e-166 8.42793790e-166 2.04039988e-165 1.03137954e-165\n",
      "  4.27829008e-165 1.46099177e-165 5.59033803e-166 3.04728789e-165\n",
      "  8.71344085e-166 6.47459866e-166 1.11191859e-165 8.10711118e-166\n",
      "  5.20170885e-165 6.70872059e-166 8.62944593e-166 1.01418668e-165\n",
      "  5.96625267e-165 6.37384493e-166 1.02385474e-165 1.03828924e-165\n",
      "  6.62765840e-166 1.13891000e-164 2.42428389e+001 5.54139756e-166\n",
      "  6.34839935e-166 1.44796225e-165 8.27474892e-166 5.27402941e-166\n",
      "  9.23865121e-165 1.83068692e-165 9.94729602e-165 4.89213900e-166\n",
      "  1.00000000e+002 1.14596146e-165 5.29639681e-165 2.02850326e-165\n",
      "  7.32549323e-166 1.34975690e-165 4.32700987e-165 8.25680928e-166\n",
      "  3.26952330e-165 8.98783405e-163 1.17242933e-165 9.44634118e-166\n",
      "  2.35778080e-165 1.09312120e-165 1.71840896e-165 1.00000000e+002\n",
      "  4.41772360e-166 1.07408061e-165 5.45901496e-166 2.99986031e-165\n",
      "  1.28295225e-165 1.26422052e-165 9.95757406e-166 1.49220178e-164\n",
      "  1.95903817e-165 8.23977977e-166 2.69871757e-165 1.00000000e+002\n",
      "  1.00000000e+002 2.54319104e-165 5.05331376e-166 1.40067459e-165\n",
      "  1.35143240e-165 1.59208184e+001 3.55038509e-166 1.17600156e-165\n",
      "  3.40089248e-166 4.64815922e-166 1.13309309e-165 6.86317698e-166\n",
      "  3.87502194e-166 1.00000000e+002 2.47898758e-166 9.35371529e-166\n",
      "  4.15691615e-166 1.00000000e+002 9.39365299e-167 5.23123404e-166\n",
      "  1.66839278e-166 3.52030318e-166 1.54367363e-165 2.36120145e-165\n",
      "  2.06339863e-166 6.03294936e-166 9.21903695e+001 9.16144056e-166\n",
      "  2.95416369e-166 2.45435260e-166 2.07502786e-165 7.98037168e-166\n",
      "  8.94371630e-166 8.86688430e-167 2.16190262e-166 2.76910341e-166\n",
      "  2.46060756e-165 1.96001770e-165 3.21387163e-166 5.97836184e-166\n",
      "  5.92435534e-166 2.94541306e-165 1.37988278e-166 3.50738812e-166\n",
      "  1.29197284e-165 8.22706224e-166 1.77907922e-165 1.65891303e-165\n",
      "  3.18840516e-166 3.52311100e-166 3.19380788e-166 9.71682997e-167\n",
      "  1.00000000e+002 4.70401587e-166 3.19821710e-166 1.00000000e+002\n",
      "  3.14663626e-166 3.74863811e-164 3.39489598e-166 1.01918371e-166\n",
      "  1.00000000e+002 4.45075368e-166 2.97699030e-166 1.79337977e-166\n",
      "  4.92671623e-166 7.29601166e-166 2.75738881e-166 3.45766067e-165\n",
      "  7.62669236e-166 1.00000000e+002 3.25258978e+001 5.27844402e+001\n",
      "  3.51305728e-166 1.61992809e-166 7.25358871e-166 4.52166470e-166\n",
      "  3.29281396e-166 1.38469576e-166 6.79276544e-167 7.34717216e-166\n",
      "  2.75337728e-166 4.56358157e-166 4.59952001e+001 7.43889770e-166\n",
      "  2.73897826e+001 8.64353930e-166 3.87401275e-166 9.69187538e-166\n",
      "  1.13201937e-166 7.33934583e+001 2.44863961e-166 2.06968293e-166\n",
      "  2.29943342e-166 7.05495832e-166 9.33918206e-167 5.03358430e-165\n",
      "  5.63947768e-166 7.48968071e-166 5.28187623e-166 5.28990869e-166\n",
      "  1.45505267e-165 2.42471470e-166 1.71533209e-165 3.77249901e-166\n",
      "  3.05848825e-166 2.31348276e-166 1.04107658e-165 3.15252794e-166\n",
      "  3.39395839e-166 7.15438298e-166 6.19547996e-166 1.95855592e-166\n",
      "  3.06387961e-166 1.48128929e-165 1.52615000e-166 2.23399128e-166\n",
      "  1.09111236e-165 1.43124389e-166 2.80115999e-166 7.68382200e-166\n",
      "  1.00000000e+002 1.00000000e+002 1.00000000e+002 1.54060131e-166\n",
      "  1.26652301e-166 2.08378266e-166 7.43905310e-166 4.31225426e-167\n",
      "  3.88038458e-166 9.87687590e-166 1.77235882e-166 1.00000000e+002\n",
      "  1.00000000e+002 3.08874067e-166 7.47585050e-167 2.97021387e-166\n",
      "  9.78609303e-166 1.25581405e-165 1.65560952e-166 1.59207069e-166\n",
      "  1.87557704e-165 5.77702629e-166 8.51109824e-166 6.38046959e-166\n",
      "  1.38058161e-166 2.04103868e-166 3.58119489e-166 9.95104333e-166\n",
      "  3.60924644e-166 1.34588321e-166 5.19559244e-166 2.40868638e-166\n",
      "  5.78100228e-166 4.66480977e-166]]\n"
     ]
    }
   ],
   "source": [
    "from cvxopt import matrix, solvers\n",
    "\n",
    "C = 100\n",
    "N = len(X_train)\n",
    "X0 = X_train[y_train == 1]\n",
    "X1 = X_train[y_train == -1]\n",
    "# build K\n",
    "V = np.concatenate((X0.T, -X1.T), axis = 1)\n",
    "K = matrix(V.T.dot(V))\n",
    "\n",
    "p = matrix(-np.ones((N, 1)))\n",
    "# build A, b, G, h\n",
    "G = matrix(np.vstack((-np.eye(N), np.eye(N))))\n",
    "\n",
    "h = matrix(np.vstack((np.zeros((N, 1)), C*np.ones((N, 1)))))\n",
    "A = matrix(y_train.reshape((-1, N)))\n",
    "A = A * 1.0\n",
    "b = matrix(np.zeros((1, 1)))\n",
    "solvers.options['show_progress'] = False\n",
    "sol = solvers.qp(K, p, G, h, A, b)\n",
    "\n",
    "l = np.array(sol['x'])\n",
    "print('lambda = \\n', l.T)"
   ]
  },
  {
   "cell_type": "code",
   "execution_count": 157,
   "metadata": {},
   "outputs": [
    {
     "name": "stdout",
     "output_type": "stream",
     "text": [
      "[[ 5.70946557e+00  9.65314478e-02 -6.34394233e-01 -1.16806821e-02\n",
      "  -2.77209427e+00  2.46393816e+00 -4.13759832e+00 -1.15228505e+01\n",
      "  -2.18593645e+00  2.60007716e+00 -1.93049208e+00  2.04519967e+00\n",
      "  -2.24488565e-01 -7.57883861e-02 -7.43148334e-01  7.43841049e+00\n",
      "   1.48107737e+01 -8.48537919e-01  1.84065190e+00  9.52178214e-01\n",
      "   2.44141703e-01 -4.12761218e-01  8.79229502e-02 -1.68115509e-02\n",
      "  -6.46206922e+00  6.51015897e+00 -3.94241934e+00 -1.79218731e+01\n",
      "  -7.36626109e+00  3.55560447e+00]] 1.3577242543886807\n"
     ]
    }
   ],
   "source": [
    "S = np.where(l > 1e-5)[0] # support set\n",
    "S2 = np.where(l < .999*C)[0]\n",
    "\n",
    "M = np.array([val for val in S if val in S2]) # intersection of two lists\n",
    "\n",
    "XT = X_train # we need each column to be one data point in this alg\n",
    "VS = V[:, S]\n",
    "lS = l[S]\n",
    "yM = y_train[M]\n",
    "\n",
    "XM = XT[M]\n",
    "\n",
    "w_dual = VS.dot(lS).reshape(-1, 1)\n",
    "b_dual = np.mean(yM.T - w_dual.T.dot(XM.T))\n",
    "print(w_dual.T, b_dual)"
   ]
  },
  {
   "cell_type": "code",
   "execution_count": 158,
   "metadata": {},
   "outputs": [
    {
     "name": "stdout",
     "output_type": "stream",
     "text": [
      "0.9766081871345029\n",
      "0.9727272727272728\n",
      "0.9907407407407407\n",
      "[[ 60   3]\n",
      " [  1 107]]\n"
     ]
    }
   ],
   "source": [
    "# predict\n",
    "pred = np.sign(w_dual.T.dot(X_test.T) + b_dual)\n",
    "\n",
    "# accuracy\n",
    "print(accuracy_score(y_test, pred[0]))\n",
    "print(precision_score(y_test, pred[0]))\n",
    "print(recall_score(y_test, pred[0]))\n",
    "print(confusion_matrix(y_test, pred[0]))"
   ]
  },
  {
   "cell_type": "markdown",
   "metadata": {},
   "source": [
    "method 2. sklearn"
   ]
  },
  {
   "cell_type": "code",
   "execution_count": 155,
   "metadata": {},
   "outputs": [
    {
     "name": "stdout",
     "output_type": "stream",
     "text": [
      "w =  [[ 2.10521722e+01  2.24748032e+00 -1.77289515e+00  9.15979932e-03\n",
      "  -7.50191113e+00 -4.34135814e+00 -2.25615033e+01 -1.61915137e+01\n",
      "  -1.98778939e+01  5.08582453e-01 -5.57421339e+00  3.81134692e+01\n",
      "  -3.92642593e+00 -1.62481781e+00 -1.18075377e+00  4.61362104e+00\n",
      "  -2.22012715e+00 -3.35024280e+00 -5.99961781e+00  4.40746460e-01\n",
      "   7.64788284e+00 -6.07125451e+00  2.54344789e-01 -2.28639058e-01\n",
      "  -1.32196351e+01  1.01949892e+01 -4.05023829e+01 -3.32636060e+01\n",
      "  -6.20170690e+01  1.96239360e+00]]\n",
      "b =  [71.50077318]\n"
     ]
    }
   ],
   "source": [
    "from sklearn.svm import SVC\n",
    "# Copy and put code for generate data here\n",
    "clf = SVC(kernel = 'linear', C = 100) # use the same C\n",
    "\n",
    "# if C is small, method will be “SoftMagin SVM”,\n",
    "# if C is large enough, method is near to hard margin\n",
    "clf.fit(X_train, y_train)\n",
    "\n",
    "w = clf.coef_\n",
    "w0 = clf.intercept_\n",
    "print('w = ', w)\n",
    "print('b = ', w0)"
   ]
  },
  {
   "cell_type": "code",
   "execution_count": 151,
   "metadata": {},
   "outputs": [
    {
     "name": "stdout",
     "output_type": "stream",
     "text": [
      "0.9707602339181286\n",
      "0.9904761904761905\n",
      "0.9629629629629629\n",
      "[[ 62   1]\n",
      " [  4 104]]\n"
     ]
    }
   ],
   "source": [
    "# predict\n",
    "y_pred = clf.predict(X_test)\n",
    "\n",
    "print(accuracy_score(y_test, y_pred))\n",
    "print(precision_score(y_test, y_pred))\n",
    "print(recall_score(y_test, y_pred))\n",
    "print(confusion_matrix(y_test, y_pred))"
   ]
  }
 ],
 "metadata": {
  "kernelspec": {
   "display_name": "Python 3",
   "language": "python",
   "name": "python3"
  },
  "language_info": {
   "codemirror_mode": {
    "name": "ipython",
    "version": 3
   },
   "file_extension": ".py",
   "mimetype": "text/x-python",
   "name": "python",
   "nbconvert_exporter": "python",
   "pygments_lexer": "ipython3",
   "version": "3.10.7"
  }
 },
 "nbformat": 4,
 "nbformat_minor": 2
}
